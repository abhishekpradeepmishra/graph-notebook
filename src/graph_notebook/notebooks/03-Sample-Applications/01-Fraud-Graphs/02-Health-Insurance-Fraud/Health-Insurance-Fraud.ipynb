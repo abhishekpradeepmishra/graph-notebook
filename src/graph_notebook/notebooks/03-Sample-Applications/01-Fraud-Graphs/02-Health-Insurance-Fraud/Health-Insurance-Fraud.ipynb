{
 "cells": [
  {
   "cell_type": "markdown",
   "id": "48f76a36",
   "metadata": {},
   "source": [
    "## Detect healthcare insurance fraud using Amazon Neptune\n",
    "\n",
    "Health insurance fraud imposes a financial burden on the economy, siphoning off billions of dollars annually from insurers\n",
    "and policyholders alike. This illicit practice involves intentional deception by policyholders, healthcare providers, or third\n",
    "parties to obtain unauthorized benefits from insurers. The impact is far-reaching, leading to increased healthcare expenses,\n",
    "reduced access to care, and potential risks to patient safety. Combatting health insurance fraud is crucial to protect the\n",
    "interests of honest policyholders and safeguard the integrity of the healthcare system\n",
    "\n",
    "\n",
    "In this notebook, we'll explore the graph database model's application in detecting health insurance fraud. We'll define the\n",
    "model for our use case and examine the test data. Then, we'll install Neptune database, load the data, and explore it using\n",
    "Gremlin queries. Finally, we'll visualize the data with the Graph-explorer, an open-source no-code visual exploration tool,\n",
    "enabling effective fraud detection.\n",
    "\n",
    "  - [Load sample data](#Load-sample-data)\n",
    "  - [Graph preview](#Graph-preview)\n",
    "  - [Individual Fraud](#Individual-Fraud)\n",
    "  - [Identity Theft](#Identity-theft)\n",
    "  - [Service provider collusion](#Service-Provider-Collusion)\n",
    "  - [Conclusion](#Conclusion)\n",
    "  - [What's Next?](#What's-Next?)"
   ]
  },
  {
   "cell_type": "markdown",
   "id": "4c044a94",
   "metadata": {},
   "source": [
    "### Load sample data"
   ]
  },
  {
   "cell_type": "code",
   "execution_count": null,
   "id": "28c00f4c",
   "metadata": {},
   "outputs": [],
   "source": [
    "%db_reset"
   ]
  },
  {
   "cell_type": "code",
   "execution_count": null,
   "id": "ddd27f31",
   "metadata": {},
   "outputs": [],
   "source": [
    "s3_bucket = \"<S3BucketName>\"\n",
    "s3_bucket_uri = f\"s3://{s3_bucket}\""
   ]
  },
  {
   "cell_type": "markdown",
   "id": "a1010cea",
   "metadata": {},
   "source": [
    "> **_NOTE:_**  **Before you can load data to Neptune, assign S3 write permission to Neptune Workbench instance. Make sure to update the S3 Bucket name in the policy **"
   ]
  },
  {
   "cell_type": "markdown",
   "id": "20eccf5e",
   "metadata": {},
   "source": [
    "##### Execute the command below. This will return the name of the IAM role attached to our Neptune Workbench instance. \n"
   ]
  },
  {
   "cell_type": "code",
   "execution_count": null,
   "id": "4278e4a0",
   "metadata": {},
   "outputs": [],
   "source": [
    "from sagemaker import get_execution_role\n",
    "\n",
    "role = get_execution_role()\n",
    "print(role)"
   ]
  },
  {
   "cell_type": "markdown",
   "id": "d5cedb3d",
   "metadata": {},
   "source": [
    "##### Attach following policy to AWS IAM role \n",
    "\n",
    "```\n",
    "{\n",
    "    \"Version\": \"2012-10-17\",\n",
    "    \"Statement\": [\n",
    "    {\n",
    "        \"Sid\": \"NotebookS3Permission\",\n",
    "        \"Effect\": \"Allow\",\n",
    "        \"Action\": [\n",
    "            \"s3:*\"\n",
    "        ],\n",
    "        \"Resource\": [\n",
    "            \"arn:aws:s3:::<S3BucketName>/*\"\n",
    "        ]\n",
    "    },\n",
    "\n",
    "    {\n",
    "        \"Sid\": \"NotebookRDSPermission\",\n",
    "        \"Effect\": \"Allow\",\n",
    "        \"Action\": [\n",
    "            \"rds:DescribeDBClusters\"\n",
    "        ],\n",
    "        \"Resource\": [\n",
    "            \"*\"\n",
    "        ]\n",
    "    }]\n",
    "}\n",
    "```"
   ]
  },
  {
   "cell_type": "markdown",
   "id": "af6777c3",
   "metadata": {},
   "source": [
    "##### Upload sample data files to S3 bucket"
   ]
  },
  {
   "cell_type": "code",
   "execution_count": null,
   "id": "b62cbcd7",
   "metadata": {},
   "outputs": [],
   "source": [
    "import boto3\n",
    "import os\n",
    "\n",
    "s3client = boto3.client('s3')\n",
    "\n",
    "for filename in [\"Vertices\",\"Edges\"]:\n",
    "    response = s3client.upload_file(f'{os.getcwd()}/sampledata/{filename}.csv', s3_bucket, f'healthisurancefraud/{filename}.csv')\n",
    "    print(f'uploaded {os.getcwd()}/sampledata/{filename}.csv')\n"
   ]
  },
  {
   "cell_type": "code",
   "execution_count": null,
   "id": "3da2c782",
   "metadata": {},
   "outputs": [],
   "source": [
    "%graph_notebook_config --store-to config"
   ]
  },
  {
   "cell_type": "markdown",
   "id": "c60c2391",
   "metadata": {},
   "source": [
    "> **_NOTE:_** **If  \"load_from_s3_arn\" shows up as empty read the IAM role attached to the Neptune cluster via script below**"
   ]
  },
  {
   "cell_type": "code",
   "execution_count": null,
   "id": "929e4d2f",
   "metadata": {},
   "outputs": [],
   "source": [
    "import boto3\n",
    "import json\n",
    "\n",
    "neptunecluster = json.loads(config)[\"host\"].split(\".\")[0]\n",
    "loadArn =  json.loads(config)[\"load_from_s3_arn\"]\n",
    "client = boto3.client('neptune')\n",
    "\n",
    "if loadArn == \"\":\n",
    "    response = client.describe_db_clusters(\n",
    "        DBClusterIdentifier= neptunecluster,\n",
    "        MaxRecords=20,\n",
    "        Marker='string'\n",
    "    )\n",
    "\n",
    "    loadArn = response['DBClusters'][0]['AssociatedRoles'][0]['RoleArn']\n",
    "    \n",
    "print(loadArn)"
   ]
  },
  {
   "cell_type": "markdown",
   "id": "7849b3f7",
   "metadata": {},
   "source": [
    "Run command to load the data in Neptune"
   ]
  },
  {
   "cell_type": "code",
   "execution_count": null,
   "id": "c605d118",
   "metadata": {},
   "outputs": [],
   "source": [
    "%load -s {s3_bucket_uri}/healthinsurancefraud/ -f csv -p OVERSUBSCRIBE --run -l {loadArn}"
   ]
  },
  {
   "cell_type": "markdown",
   "id": "5b7fbff4",
   "metadata": {},
   "source": [
    "### Graph preview"
   ]
  },
  {
   "cell_type": "markdown",
   "id": "31673960",
   "metadata": {},
   "source": [
    "#### Change visualization settings"
   ]
  },
  {
   "cell_type": "code",
   "execution_count": null,
   "id": "dce64eaa",
   "metadata": {},
   "outputs": [],
   "source": [
    "%%graph_notebook_vis_options\n",
    "\n",
    "{\"groups\": { \"Company\":{\"shape\":\"icon\",\"icon\":{\"face\":\"FontAwesome\",\"code\":\"\",\"color\":\"red\"}}, \"Address\":{\"shape\":\"icon\",\"icon\":{\"face\":\"FontAwesome\",\"code\":\"\",\"color\":\"green\"}}, \"Claim_Device\":{\"shape\":\"icon\",\"icon\":{\"face\":\"FontAwesome\",\"code\":\"\",\"color\":\"orange\"}}, \"Policy_Holder\":{\"shape\":\"icon\",\"icon\":{\"face\":\"FontAwesome\",\"code\":\"\",\"color\":\"blue\"}}, \"Claim_ID\":{\"shape\":\"icon\",\"icon\":{\"face\":\"FontAwesome\",\"code\":\"\",\"color\":\"gray\"}}, \"Health_Code\":{\"shape\":\"icon\",\"icon\":{\"face\":\"FontAwesome\",\"code\":\"\",\"color\":\"purple\"}}, \"Company_Bank_Account\":{\"shape\":\"icon\",\"icon\":{\"face\":\"FontAwesome\",\"code\":\"\",\"color\":\"magenta\"}}, \"Bank_Account\":{\"shape\":\"icon\",\"icon\":{\"face\":\"FontAwesome\",\"code\":\"\",\"color\":\"green\"}}, \"Service_Provider\":{\"shape\":\"icon\",\"icon\":{\"face\":\"FontAwesome\",\"code\":\"\",\"color\":\"pink\"}}, \"Claim_IP\":{\"shape\":\"icon\",\"icon\":{\"face\":\"FontAwesome\",\"code\":\"\",\"color\":\"gray\"}}, \"Reg_Phone\":{\"shape\":\"icon\",\"icon\":{\"face\":\"FontAwesome\",\"code\":\"\",\"color\":\"pink\"}}, \"Reg_IP\":{\"shape\":\"icon\",\"icon\":{\"face\":\"FontAwesome\",\"code\":\"\",\"color\":\"pink\"}}, \"Reg_Device\":{\"shape\":\"icon\",\"icon\":{\"face\":\"FontAwesome\",\"code\":\"\",\"color\":\"blue\"}} }, \"edges\":{\"color\":{\"inherit\":false},\"smooth\":{\"enabled\":false,\"type\":\"dynamic\"}, \"arrows\":{\"to\":{\"enabled\":true,\"type\":\"arrow\"}},\"font\":{\"face\":\"courier new\"}}, \"interaction\":{\"hover\":true,\"hoverConnectedEdges\":true,\"selectConnectedEdges\":false}, \"physics\":{\"minVelocity\":0.75, \"barnesHut\":{\"centralGravity\":0.1,\"gravitationalConstant\":-50450,\"springLength\":95,\"springConstant\":0.04,\"damping\":0.09,\"avoidOverlap\":0.1},\"solver\":\"barnesHut\",\"enabled\":true,\"adaptiveTimestep\":true,\"stabilization\":{\"enabled\":true,\"iterations\":1}} }"
   ]
  },
  {
   "cell_type": "markdown",
   "id": "382993ed",
   "metadata": {},
   "source": [
    "### Show list of Nodes/Vertices and their count"
   ]
  },
  {
   "cell_type": "code",
   "execution_count": null,
   "id": "f3d4c7f6",
   "metadata": {},
   "outputs": [],
   "source": [
    "%%gremlin\n",
    "\n",
    "g.V().groupCount().by(label).unfold()"
   ]
  },
  {
   "cell_type": "markdown",
   "id": "97986e44",
   "metadata": {},
   "source": [
    "### Show list of Edges/relationships and their count"
   ]
  },
  {
   "cell_type": "code",
   "execution_count": null,
   "id": "125bbd1a",
   "metadata": {},
   "outputs": [],
   "source": [
    "%%gremlin\n",
    "    \n",
    "g.E().groupCount().by(label).unfold()"
   ]
  },
  {
   "cell_type": "markdown",
   "id": "cf4f5aa2",
   "metadata": {},
   "source": [
    "### Individual Fraud\n",
    "\n",
    "Health insurance fraud carried out by a policyholder involves the submission of multiple fraudulent claims to their\n",
    "insurance provider. The policyholder intentionally misrepresents information or inflates medical expenses to receive\n",
    "illegitimate reimbursements or benefits. This form of fraud can lead to substantial financial losses for insurance companies,\n",
    "increased premiums for other policyholders, and strains the overall healthcare system. Let’s examine the data for this type\n",
    "of fraud."
   ]
  },
  {
   "cell_type": "markdown",
   "id": "0442e934",
   "metadata": {},
   "source": [
    "#### List top 5 policy holders by number of claims"
   ]
  },
  {
   "cell_type": "code",
   "execution_count": null,
   "id": "bde27d2a",
   "metadata": {},
   "outputs": [],
   "source": [
    "%%gremlin -d T.id -de T.label -l 100 -le 100\n",
    "\n",
    "g.V()\n",
    ".hasLabel(\"Policy_Holder\")\n",
    ".group()\n",
    "    .by(id)\n",
    "    .by(out(\"Submitted_Claim\").count())\n",
    ".unfold()\n",
    ".order().by(values, desc)\n",
    ".limit(5)"
   ]
  },
  {
   "cell_type": "markdown",
   "id": "32e2793d",
   "metadata": {},
   "source": [
    "#### Find all claims and associated medical procedures made by a policy holder"
   ]
  },
  {
   "cell_type": "code",
   "execution_count": null,
   "id": "2e882c34",
   "metadata": {},
   "outputs": [],
   "source": [
    "%%gremlin -d T.id -de T.label -l 100 -le 100\n",
    "\n",
    "g.V(\"353625C\")\n",
    ".outE(\"Submitted_Claim\").inV()\n",
    ".outE(\"Service_Provided\").inV()\n",
    ".path()\n",
    "    .by(elementMap())"
   ]
  },
  {
   "cell_type": "markdown",
   "id": "2b2b7e52",
   "metadata": {},
   "source": [
    "#### Find all claims made by policy holder and the service provider involved"
   ]
  },
  {
   "cell_type": "code",
   "execution_count": null,
   "id": "922f997a",
   "metadata": {},
   "outputs": [],
   "source": [
    "%%gremlin -d T.id -de T.label -l 100 -le 100\n",
    "\n",
    "g.V(\"353625C\")\n",
    ".outE(\"Submitted_Claim\").inV()\n",
    ".outE(\"Paid\").inV()\n",
    ".outE(\"Works_For\").inV()\n",
    ".path()\n",
    ".by(elementMap())\n",
    "    "
   ]
  },
  {
   "cell_type": "markdown",
   "id": "38da664a",
   "metadata": {},
   "source": [
    "### Identity theft\n",
    "\n",
    "Health insurance fraud through identity theft occurs when an individual or entity illegally obtains someone else's personal\n",
    "information and uses it to fraudulently obtain medical services, prescriptions, or insurance coverage. Perpetrators may\n",
    "pose as the victim to access healthcare services, resulting in false claims submitted to insurance companies. This type of\n",
    "fraud not only leads to financial losses for insurers but can also cause significant harm to the victims, including damage to\n",
    "their medical records and reputation.\n",
    "A common type of fraud is one in which a fraudulent "
   ]
  },
  {
   "cell_type": "markdown",
   "id": "6d27a996",
   "metadata": {},
   "source": [
    "#### Get the Policy holder details for the fraudulent claim"
   ]
  },
  {
   "cell_type": "code",
   "execution_count": null,
   "id": "3b318899",
   "metadata": {},
   "outputs": [],
   "source": [
    "%%gremlin -d T.id -de T.label -l 100 -le 100\n",
    "\n",
    "g.V(\"F645432\")\n",
    ".repeat(\n",
    "    bothE(\"Reg_With\",\"Submitted_Claim\",\"Paid\",\"Claim_Submitted_From_IP\",\"Works_For\",\n",
    "    \"Linked_Company_Bank_Account\")\n",
    "        .otherV().choose\n",
    "        (\n",
    "            label().is(eq(\"Claim_ID\")),\n",
    "            id().is(eq(\"F645432\"))\n",
    "        ).simplePath()\n",
    "    )\n",
    ".emit().times(3).path()\n",
    ".by(elementMap())"
   ]
  },
  {
   "cell_type": "markdown",
   "id": "a0031934",
   "metadata": {},
   "source": [
    "#### List all claims made with same IP address"
   ]
  },
  {
   "cell_type": "code",
   "execution_count": null,
   "id": "53666d67",
   "metadata": {},
   "outputs": [],
   "source": [
    "%%gremlin -d T.id -de T.label -l 100 -le 100\n",
    "\n",
    "g.V(\"F645432\")\n",
    ".union\n",
    "(\n",
    "__.repeat(\n",
    "        bothE(\"Reg_With\",\"Submitted_Claim\",\"Paid\",\"Claim_Submitted_From_IP\",\"Works_For\",\"Linked_Company_Bank_Account\")\n",
    "            .otherV()\n",
    "            .choose\n",
    "            (\n",
    "                label().is(eq(\"Claim_ID\")),\n",
    "                id().is(eq(\"F645432\"))\n",
    "            )\n",
    "            .simplePath()\n",
    "        )\n",
    "    .emit().times(3)\n",
    ",\n",
    "  V(\"172.32.43.21\").inE().outV()\n",
    ")\n",
    ".path()\n",
    ".by(elementMap())"
   ]
  },
  {
   "cell_type": "markdown",
   "id": "2fa06279",
   "metadata": {},
   "source": [
    "#### Get all service providers linked to claims from IP address"
   ]
  },
  {
   "cell_type": "code",
   "execution_count": null,
   "id": "8a0fb9c2",
   "metadata": {},
   "outputs": [],
   "source": [
    "%%gremlin -d T.id -de T.label -l 100 -le 100\n",
    "\n",
    "g.V(\"F645432\")\n",
    ".union\n",
    "(\n",
    "__.repeat(\n",
    "        bothE(\"Reg_With\",\"Submitted_Claim\",\"Paid\",\"Claim_Submitted_From_IP\",\"Works_For\",\"Linked_Company_Bank_Account\")\n",
    "            .otherV()\n",
    "            .choose\n",
    "            (\n",
    "                label().is(eq(\"Claim_ID\")),\n",
    "                id().is(eq(\"F645432\"))\n",
    "            )\n",
    "            .simplePath()\n",
    "        )\n",
    "    .emit().times(3)\n",
    ",\n",
    "  V(\"172.32.43.21\").inE().outV().outE(\"Paid\").inV()\n",
    ")\n",
    ".path()\n",
    ".by(elementMap())"
   ]
  },
  {
   "cell_type": "markdown",
   "id": "85f342f6",
   "metadata": {},
   "source": [
    "#### Get all policy holders linked to the fraudulent claims from IP address"
   ]
  },
  {
   "cell_type": "code",
   "execution_count": null,
   "id": "53cb104b",
   "metadata": {},
   "outputs": [],
   "source": [
    "%%gremlin -d T.id -de T.label -l 100 -le 100\n",
    "\n",
    "g.V(\"F645432\")\n",
    ".union\n",
    "(\n",
    "__.repeat(\n",
    "        bothE(\"Reg_With\",\"Submitted_Claim\",\"Paid\",\"Claim_Submitted_From_IP\",\"Works_For\",\"Linked_Company_Bank_Account\")\n",
    "            .otherV()\n",
    "            .simplePath()\n",
    "        )\n",
    "    .emit().times(3)\n",
    ",\n",
    "  V(\"172.32.43.21\").inE().outV()\n",
    ")\n",
    ".path()\n",
    ".by(elementMap())"
   ]
  },
  {
   "cell_type": "markdown",
   "id": "4c59898c",
   "metadata": {},
   "source": [
    "### Service Provider Collusion\n",
    "\n",
    "Health insurance fraud involving collusion between two healthcare service providers occurs when one provider illicitly\n",
    "shares customer details with the other, enabling them to submit fraudulent claims for services that were not actually\n",
    "rendered. This deceptive practice allows both providers to profit dishonestly from the insurance company, resulting in\n",
    "financial losses for the insurer and potential harm to the customers affected. Such fraudulent activities undermine the\n",
    "integrity of the healthcare system and necessitate stringent measures to prevent and detect such collusion"
   ]
  },
  {
   "cell_type": "markdown",
   "id": "910a7668",
   "metadata": {},
   "source": [
    "#### Get details of the service provider and all claims involved\n",
    "\n",
    "First let us look at all the claims made involving a service provider which has been reported as suspicious. All claims made to this service provider have been fraudulent."
   ]
  },
  {
   "cell_type": "code",
   "execution_count": null,
   "id": "4202a82e",
   "metadata": {},
   "outputs": [],
   "source": [
    "%%gremlin -d T.id -de T.label -l 100 -le 100\n",
    "\n",
    "g.V(\"Dr. Brown\")\n",
    "    .inE(\"Paid\").outV().inE(\"Submitted_Claim\").outV()\n",
    "    .simplePath()\n",
    "    .path()\n",
    "    .by(elementMap())"
   ]
  },
  {
   "cell_type": "markdown",
   "id": "e42fc186",
   "metadata": {},
   "source": [
    "####  Get details of all policy holder claims including service provider"
   ]
  },
  {
   "cell_type": "code",
   "execution_count": null,
   "id": "9b3dd8ce",
   "metadata": {},
   "outputs": [],
   "source": [
    "%%gremlin -d T.id -de T.label -l 100 -le 100\n",
    "\n",
    "g.V(\"Dr. Brown\")\n",
    "    .inE(\"Paid\").outV().inE(\"Submitted_Claim\").outV()\n",
    "    .outE(\"Submitted_Claim\").inV().outE(\"Paid\").inV()\n",
    "    .simplePath()\n",
    "    .path().by(elementMap())"
   ]
  },
  {
   "cell_type": "markdown",
   "id": "c4224749",
   "metadata": {},
   "source": [
    "### Conclusion\n",
    "\n",
    "This notebook has shown how you can use Amazon Neptune to detect health insurance fraud. \n",
    "We've used a synthetic health insurance data for this exercise. Query patterns cane be used by an Insurance investigator  team to mitigate Frauds in realtime."
   ]
  },
  {
   "cell_type": "markdown",
   "id": "bf2584bc",
   "metadata": {},
   "source": [
    "## What's Next?\n",
    "\n",
    "The examples in this notebook show how to develop a fraud graph data model and accompanying queries. To build a fraud detection solution that incorporates Neptune, we recommend the following resources:\n",
    "\n",
    "  - [Getting Started with Amazon Neptune](https://pages.awscloud.com/AWS-Learning-Path-Getting-Started-with-Amazon-Neptune_2020_LP_0009-DAT.html) is a video-based learning path that shows you how to create and connect to a Neptune database, choose a data model and query language, author and tune graph queries, and integrate Neptune with other Amazon Web services.\n",
    "  - Before you begin designing your database, consult the [Amazon Web Services Reference Architectures for Using Graph Databases](https://github.com/aws-samples/aws-dbs-refarch-graph/) GitHub repo, where you can browse examples of reference deployment architectures, and learn more about building a graph data model and choosing a query language.\n",
    "  - For links to documentation, blog posts, videos, and code repositories with samples and tools, see the [Amazon Neptune developer resources](https://aws.amazon.com/neptune/developer-resources/).\n",
    "  - Neptune ML makes it possible to build and train useful machine learning models on large graphs in hours instead of weeks. To find out how to set up and use a graph neural network, see [Using Amazon Neptune ML for machine learning on graphs](https://docs.aws.amazon.com/neptune/latest/userguide/machine-learning.html).\n",
    "  "
   ]
  }
 ],
 "metadata": {
  "kernelspec": {
   "display_name": "Python 3",
   "language": "python",
   "name": "python3"
  },
  "language_info": {
   "codemirror_mode": {
    "name": "ipython",
    "version": 3
   },
   "file_extension": ".py",
   "mimetype": "text/x-python",
   "name": "python",
   "nbconvert_exporter": "python",
   "pygments_lexer": "ipython3",
   "version": "3.7.2"
  }
 },
 "nbformat": 4,
 "nbformat_minor": 5
}
